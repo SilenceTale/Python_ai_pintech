{
 "cells": [
  {
   "cell_type": "code",
   "execution_count": 24,
   "id": "716f5e5f-5fcf-4cc9-a4a2-0b328db8b84d",
   "metadata": {},
   "outputs": [
    {
     "name": "stdout",
     "output_type": "stream",
     "text": [
      "[6, 7, 8, 9, 10, 12, 14, 16, 18, 20, 18, 21, 24, 27, 30, 24, 28, 32, 36, 40, 30, 35, 40, 45, 50]\n",
      "[7, 8, 9, 10, 11, 8, 9, 10, 11, 12, 9, 10, 11, 12, 13, 10, 11, 12, 13, 14, 11, 12, 13, 14, 15]\n",
      "[7, 9, 21, 27, 35, 45]\n"
     ]
    }
   ],
   "source": [
    "#리스트 컴프리헨션\n",
    "items = [1, 2, 3, 4, 5]\n",
    "items2 = [6, 7, 8, 9, 10]\n",
    "\n",
    "# 첫번째 문제 두 수의 합을 구해봅시다.\n",
    "result = [i * j for i in items\n",
    "          for j in items2]\n",
    "\n",
    "# 두번째 문제 두 수의 곱을 구해봅시다.\n",
    "result2 = [i + j for i in items\n",
    "           for j in items2]\n",
    "\n",
    "# 세번째 문제 두 수가 홀수 일 경우 곱.\n",
    "result3 = [i * j for i in items\n",
    "           for j in items2 if i % 2 == 1 and j % 2 == 1 ]\n",
    "\n",
    "\n",
    "print(result)\n",
    "print(result2)\n",
    "print(result3)"
   ]
  },
  {
   "cell_type": "code",
   "execution_count": 32,
   "id": "92698a2b-4d56-406d-8c63-672c2b34bcc6",
   "metadata": {},
   "outputs": [
    {
     "ename": "TypeError",
     "evalue": "'int' object is not iterable",
     "output_type": "error",
     "traceback": [
      "\u001b[1;31m---------------------------------------------------------------------------\u001b[0m",
      "\u001b[1;31mTypeError\u001b[0m                                 Traceback (most recent call last)",
      "Cell \u001b[1;32mIn[32], line 5\u001b[0m\n\u001b[0;32m      2\u001b[0m a \u001b[38;5;241m=\u001b[39m \u001b[38;5;241m10\u001b[39m\n\u001b[0;32m      3\u001b[0m b \u001b[38;5;241m=\u001b[39m \u001b[38;5;241m20\u001b[39m\n\u001b[1;32m----> 5\u001b[0m result \u001b[38;5;241m=\u001b[39m \u001b[38;5;28mlist\u001b[39m(\u001b[38;5;28mfilter\u001b[39m(\u001b[38;5;28;01mlambda\u001b[39;00m a,b : a \u001b[38;5;241m+\u001b[39m b, nums))\n\u001b[0;32m      7\u001b[0m \u001b[38;5;28mprint\u001b[39m(result)\n",
      "\u001b[1;31mTypeError\u001b[0m: 'int' object is not iterable"
     ]
    }
   ],
   "source": [
    "\n"
   ]
  }
 ],
 "metadata": {
  "kernelspec": {
   "display_name": "Python 3 (ipykernel)",
   "language": "python",
   "name": "python3"
  },
  "language_info": {
   "codemirror_mode": {
    "name": "ipython",
    "version": 3
   },
   "file_extension": ".py",
   "mimetype": "text/x-python",
   "name": "python",
   "nbconvert_exporter": "python",
   "pygments_lexer": "ipython3",
   "version": "3.12.7"
  }
 },
 "nbformat": 4,
 "nbformat_minor": 5
}
